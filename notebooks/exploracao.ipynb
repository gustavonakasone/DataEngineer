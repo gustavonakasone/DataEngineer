{
 "cells": [
  {
   "cell_type": "code",
   "execution_count": 40,
   "metadata": {},
   "outputs": [],
   "source": [
    "#Setup files\n",
    "path_json = '../data_raw/dados_empresaA.json'\n",
    "path_csv = '../data_raw/dados_empresaB.csv'"
   ]
  },
  {
   "cell_type": "code",
   "execution_count": 70,
   "metadata": {},
   "outputs": [],
   "source": [
    "import json\n",
    "import csv\n",
    "#read files\n",
    "file_csv = []\n",
    "with open(path_json, 'r') as file:\n",
    "    file_json = json.load(file)\n",
    "    \n",
    "with open(path_csv, 'r') as file:\n",
    "    spamreader = csv.DictReader(file, delimiter=',')\n",
    "    for row in spamreader:\n",
    "        file_csv.append(row)\n",
    "        \n",
    "    "
   ]
  },
  {
   "cell_type": "code",
   "execution_count": 73,
   "metadata": {},
   "outputs": [
    {
     "name": "stdout",
     "output_type": "stream",
     "text": [
      "{'Nome do Item': 'LÃ¡pis de sobrancelha', 'ClassificaÃ§Ã£o do Produto': 'Roupas', 'Valor em Reais (R$)': '55.17', 'Quantidade em Estoque': '62', 'Nome da Loja': 'Filial 1', 'Data da Venda': '2023-04-13 18:58:06.794203'}\n",
      "{'Nome do Produto': 'Blush em pó', 'Categoria do Produto': 'Eletrodomésticos', 'Preço do Produto (R$)': 79.41, 'Quantidade em Estoque': 7, 'Filial': 'Filial 7'}\n"
     ]
    }
   ],
   "source": [
    "print(file_csv[0])\n",
    "print(file_json[0])"
   ]
  },
  {
   "cell_type": "code",
   "execution_count": 82,
   "metadata": {},
   "outputs": [
    {
     "name": "stdout",
     "output_type": "stream",
     "text": [
      "JSON FILE: ['Nome do Produto', 'Categoria do Produto', 'Preço do Produto (R$)', 'Quantidade em Estoque', 'Filial']\n",
      "CSV FILE: ['Nome do Item', 'ClassificaÃ§Ã£o do Produto', 'Valor em Reais (R$)', 'Quantidade em Estoque', 'Nome da Loja', 'Data da Venda']\n"
     ]
    }
   ],
   "source": [
    "header_json = list(file_json[0].keys())\n",
    "header_csv = list(file_csv[0].keys())\n",
    "print('JSON FILE:', header_json)\n",
    "print('CSV FILE:', header_csv)"
   ]
  },
  {
   "cell_type": "code",
   "execution_count": 110,
   "metadata": {},
   "outputs": [
    {
     "name": "stdout",
     "output_type": "stream",
     "text": [
      "6\n",
      "5\n"
     ]
    }
   ],
   "source": [
    "print(len(header_csv))\n",
    "print(len(header_json))"
   ]
  },
  {
   "cell_type": "code",
   "execution_count": 91,
   "metadata": {},
   "outputs": [],
   "source": [
    "key_mapping = {\n",
    "    'Nome do Item': 'Nome do Produto',\n",
    "    'ClassificaÃ§Ã£o do Produto' : 'Categoria do Produto',\n",
    "    'Valor em Reais (R$)' : 'Preço do Produto (R$)',\n",
    "    'Quantidade em Estoque' : 'Quantidade em Estoque',\n",
    "    'Nome da Loja' : 'Filial',\n",
    "    'Data da Venda' : 'Data da Venda'         \n",
    "               }"
   ]
  },
  {
   "cell_type": "code",
   "execution_count": 92,
   "metadata": {},
   "outputs": [
    {
     "data": {
      "text/plain": [
       "{'Nome do Produto': 'LÃ¡pis de sobrancelha',\n",
       " 'Categoria do Produto': 'Roupas',\n",
       " 'Preço do Produto (R$)': '55.17',\n",
       " 'Quantidade em Estoque': '62',\n",
       " 'Filial': 'Filial 1',\n",
       " 'Data da Venda': '2023-04-13 18:58:06.794203'}"
      ]
     },
     "execution_count": 92,
     "metadata": {},
     "output_type": "execute_result"
    }
   ],
   "source": [
    "csv_transform = []\n",
    "\n",
    "for old_dict in file_csv:\n",
    "    dict_temp = {}\n",
    "    for old_key, value in old_dict.items():\n",
    "        dict_temp[key_mapping[old_key]] = value\n",
    "    \n",
    "    csv_transform.append(dict_temp)\n",
    "\n",
    "\n",
    "csv_transform[0]"
   ]
  },
  {
   "cell_type": "code",
   "execution_count": 94,
   "metadata": {},
   "outputs": [
    {
     "name": "stdout",
     "output_type": "stream",
     "text": [
      "1323\n",
      "3123\n",
      "sum  4446\n"
     ]
    }
   ],
   "source": [
    "print(len(csv_transform))\n",
    "print(len(file_json))\n",
    "print(\"sum \", len(csv_transform) + len(file_json))"
   ]
  },
  {
   "cell_type": "code",
   "execution_count": 95,
   "metadata": {},
   "outputs": [
    {
     "name": "stdout",
     "output_type": "stream",
     "text": [
      "4446\n"
     ]
    }
   ],
   "source": [
    "combined_list = []\n",
    "combined_list.extend(file_json)\n",
    "combined_list.extend(csv_transform)\n",
    "print(len(combined_list))"
   ]
  },
  {
   "cell_type": "code",
   "execution_count": 111,
   "metadata": {},
   "outputs": [
    {
     "data": {
      "text/plain": [
       "['Nome do Produto',\n",
       " 'Categoria do Produto',\n",
       " 'Preço do Produto (R$)',\n",
       " 'Quantidade em Estoque',\n",
       " 'Filial',\n",
       " 'Data da Venda']"
      ]
     },
     "execution_count": 111,
     "metadata": {},
     "output_type": "execute_result"
    }
   ],
   "source": [
    "header_csv_data = list(combined_list[-1].keys())\n",
    "header_csv_data\n"
   ]
  },
  {
   "cell_type": "code",
   "execution_count": 123,
   "metadata": {},
   "outputs": [],
   "source": [
    "combined_list[0].get('Data da Venda', 'Indisponivel')\n",
    "table_combined_list = []\n",
    "for row in combined_list:\n",
    "    line = []\n",
    "    for column in header_csv_data:\n",
    "        line.append(row.get(column, 'Indisponivel'))\n",
    "    table_combined_list.append(line)\n",
    "    \n"
   ]
  },
  {
   "cell_type": "code",
   "execution_count": null,
   "metadata": {},
   "outputs": [],
   "source": [
    "path_data = '../data_processed/data.csv'\n",
    "\n",
    "with open(path_data, 'w', newline='') as file:\n",
    "    writer = csv.writer(file)\n",
    "    writer.writerows(table_combined_list)\n"
   ]
  }
 ],
 "metadata": {
  "kernelspec": {
   "display_name": ".venv",
   "language": "python",
   "name": "python3"
  },
  "language_info": {
   "codemirror_mode": {
    "name": "ipython",
    "version": 3
   },
   "file_extension": ".py",
   "mimetype": "text/x-python",
   "name": "python",
   "nbconvert_exporter": "python",
   "pygments_lexer": "ipython3",
   "version": "3.12.7"
  }
 },
 "nbformat": 4,
 "nbformat_minor": 2
}
